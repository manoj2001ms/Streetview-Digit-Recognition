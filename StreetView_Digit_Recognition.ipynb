{
  "nbformat": 4,
  "nbformat_minor": 0,
  "metadata": {
    "colab": {
      "provenance": []
    },
    "kernelspec": {
      "name": "python3",
      "display_name": "Python 3"
    },
    "language_info": {
      "name": "python"
    }
  },
  "cells": [
    {
      "cell_type": "code",
      "execution_count": 1,
      "metadata": {
        "colab": {
          "base_uri": "https://localhost:8080/"
        },
        "id": "c5V1_0rFrltB",
        "outputId": "adaebf0b-48f9-43c9-9a6b-6e6540a13608"
      },
      "outputs": [
        {
          "output_type": "stream",
          "name": "stdout",
          "text": [
            "Mounted at /content/drive\n"
          ]
        }
      ],
      "source": [
        "from google.colab import drive\n",
        "drive.mount(\"/content/drive\")"
      ]
    },
    {
      "cell_type": "markdown",
      "source": [
        "# **Loading Libraries and Dataset**"
      ],
      "metadata": {
        "id": "2PYHfH_1sDSj"
      }
    },
    {
      "cell_type": "code",
      "source": [
        "#importing libarires\n",
        "import numpy as np\n",
        "import h5py"
      ],
      "metadata": {
        "id": "P07u4sODryHW"
      },
      "execution_count": 2,
      "outputs": []
    },
    {
      "cell_type": "code",
      "source": [
        "#redaing h5py dataset\n",
        "data=h5py.File('/content/drive/My Drive/Autonomous_Vehicles.h5','r')"
      ],
      "metadata": {
        "id": "m43UxSGHsJIe"
      },
      "execution_count": 3,
      "outputs": []
    },
    {
      "cell_type": "markdown",
      "source": [
        "# **Understanding of data**"
      ],
      "metadata": {
        "id": "Xy0VNEtEsQex"
      }
    },
    {
      "cell_type": "code",
      "source": [
        "#printing keys\n",
        "data.keys()"
      ],
      "metadata": {
        "colab": {
          "base_uri": "https://localhost:8080/"
        },
        "id": "tZsIQXtCsLa1",
        "outputId": "e62e0549-8e16-439f-997c-9a268f02b582"
      },
      "execution_count": 4,
      "outputs": [
        {
          "output_type": "execute_result",
          "data": {
            "text/plain": [
              "<KeysViewHDF5 ['X_test', 'X_train', 'X_val', 'y_test', 'y_train', 'y_val']>"
            ]
          },
          "metadata": {},
          "execution_count": 4
        }
      ]
    },
    {
      "cell_type": "code",
      "source": [
        "data.close()"
      ],
      "metadata": {
        "id": "c-PW-v0OsNK6"
      },
      "execution_count": 5,
      "outputs": []
    },
    {
      "cell_type": "markdown",
      "source": [
        "# **Data Preprocessing**"
      ],
      "metadata": {
        "id": "VzRxWg3gsg0h"
      }
    },
    {
      "cell_type": "code",
      "source": [
        "#splitting dataset into training and testing\n",
        "import h5py\n",
        "\n",
        "# Open the HDF5 file\n",
        "with h5py.File('/content/drive/My Drive/Autonomous_Vehicles.h5', 'r') as hdf_file:\n",
        "    # Load the datasets\n",
        "    X_train = hdf_file['X_train'][:]\n",
        "    X_test = hdf_file['X_test'][:]\n",
        "    y_train = hdf_file['y_train'][:]\n",
        "    y_test = hdf_file['y_test'][:]\n"
      ],
      "metadata": {
        "id": "q4UTb9HIsPN4"
      },
      "execution_count": 6,
      "outputs": []
    },
    {
      "cell_type": "code",
      "source": [
        "#printing shape of training and testing data\n",
        "print(\"X_train shape:\", X_train.shape)\n",
        "print(\"X_test shape:\", X_test.shape)\n",
        "print(\"y_train shape:\", y_train.shape)\n",
        "print(\"y_test shape:\", y_test.shape)"
      ],
      "metadata": {
        "colab": {
          "base_uri": "https://localhost:8080/"
        },
        "id": "PVa4FTevsgBy",
        "outputId": "bc3d47fd-4717-4e55-e7f7-21fb15c9e997"
      },
      "execution_count": 7,
      "outputs": [
        {
          "output_type": "stream",
          "name": "stdout",
          "text": [
            "X_train shape: (42000, 32, 32)\n",
            "X_test shape: (18000, 32, 32)\n",
            "y_train shape: (42000,)\n",
            "y_test shape: (18000,)\n"
          ]
        }
      ]
    },
    {
      "cell_type": "markdown",
      "source": [
        "# **Data Visualization**"
      ],
      "metadata": {
        "id": "RHxclSIPsz4v"
      }
    },
    {
      "cell_type": "code",
      "source": [
        "#visualizing first 10 images in the dataset and their labels.\n",
        "%matplotlib inline\n",
        "import matplotlib.pyplot as plt\n",
        "plt.figure(figsize=(10,1))\n",
        "for i in range(10):\n",
        "  plt.subplot(1,10,i+1)\n",
        "  plt.imshow(X_train[i],cmap='gray')\n",
        "  plt.axis('off')\n",
        "plt.show()\n",
        "print('label for each of the above image:%s' %(y_train[0:10]))\n"
      ],
      "metadata": {
        "colab": {
          "base_uri": "https://localhost:8080/",
          "height": 119
        },
        "id": "VrHKtvZ3swyI",
        "outputId": "4d542591-b729-4de6-8421-3477efd716bb"
      },
      "execution_count": 8,
      "outputs": [
        {
          "output_type": "display_data",
          "data": {
            "text/plain": [
              "<Figure size 1000x100 with 10 Axes>"
            ],
            "image/png": "[encoded data removed]"
          },
          "metadata": {}
        },
        {
          "output_type": "stream",
          "name": "stdout",
          "text": [
            "label for each of the above image:[2 6 7 4 4 0 3 0 7 3]\n"
          ]
        }
      ]
    },
    {
      "cell_type": "markdown",
      "source": [
        "# **Model Building**"
      ],
      "metadata": {
        "id": "NRc80HcLtDaS"
      }
    },
    {
      "cell_type": "code",
      "source": [
        "\n",
        "#flatten the images\n",
        "image_vector_size=32*32\n",
        "X_train=X_train.reshape(X_train.shape[0],image_vector_size)\n",
        "X_test=X_test.reshape(X_test.shape[0],image_vector_size)\n",
        "\n",
        "#normalize inputs from 0-255 to 0-1\n",
        "X_train = X_train / 255.0\n",
        "X_test = X_test / 255.0\n",
        "\n",
        "print('training set' , X_train.shape,y_train.shape)\n",
        "print('testing set' , X_test.shape,y_test.shape)\n"
      ],
      "metadata": {
        "colab": {
          "base_uri": "https://localhost:8080/"
        },
        "id": "mOJ_-jFas4D6",
        "outputId": "457e163f-46c9-47ea-8dc2-6c7a5c116d07"
      },
      "execution_count": 9,
      "outputs": [
        {
          "output_type": "stream",
          "name": "stdout",
          "text": [
            "training set (42000, 1024) (42000,)\n",
            "testing set (18000, 1024) (18000,)\n"
          ]
        }
      ]
    },
    {
      "cell_type": "code",
      "source": [
        "#convert to one-hot vectors using to_categorical function\n",
        "from tensorflow.keras.utils import to_categorical\n",
        "num_classes=10\n",
        "y_train= to_categorical(y_train,num_classes)\n",
        "y_test= to_categorical(y_test,num_classes)"
      ],
      "metadata": {
        "id": "soU7G9A8tHmE"
      },
      "execution_count": 10,
      "outputs": []
    },
    {
      "cell_type": "code",
      "source": [
        "print('first 5 training labels as one-hot encoded vectors:\\n',y_train[:5])"
      ],
      "metadata": {
        "colab": {
          "base_uri": "https://localhost:8080/"
        },
        "id": "EJyvDL8GtL5o",
        "outputId": "b986ad53-ffd7-4987-a0c0-26ff6dde58d7"
      },
      "execution_count": 11,
      "outputs": [
        {
          "output_type": "stream",
          "name": "stdout",
          "text": [
            "first 5 training labels as one-hot encoded vectors:\n",
            " [[0. 0. 1. 0. 0. 0. 0. 0. 0. 0.]\n",
            " [0. 0. 0. 0. 0. 0. 1. 0. 0. 0.]\n",
            " [0. 0. 0. 0. 0. 0. 0. 1. 0. 0.]\n",
            " [0. 0. 0. 0. 1. 0. 0. 0. 0. 0.]\n",
            " [0. 0. 0. 0. 1. 0. 0. 0. 0. 0.]]\n"
          ]
        }
      ]
    },
    {
      "cell_type": "code",
      "source": [
        "print(y_train.shape)"
      ],
      "metadata": {
        "colab": {
          "base_uri": "https://localhost:8080/"
        },
        "id": "bXNjPe2mtODH",
        "outputId": "a100c651-7d30-4836-d40d-97213a1bcc08"
      },
      "execution_count": 12,
      "outputs": [
        {
          "output_type": "stream",
          "name": "stdout",
          "text": [
            "(42000, 10)\n"
          ]
        }
      ]
    },
    {
      "cell_type": "code",
      "source": [
        "print(y_train.shape)\n",
        "classes = np.unique(y_train)\n",
        "\n",
        "print(\"Classes:\", classes)\n",
        "print(\"Total number of classes:\", len(classes))\n"
      ],
      "metadata": {
        "colab": {
          "base_uri": "https://localhost:8080/"
        },
        "id": "8Dl55lSDtQIg",
        "outputId": "384f20ad-da2b-46de-8e24-310b82e07c66"
      },
      "execution_count": 13,
      "outputs": [
        {
          "output_type": "stream",
          "name": "stdout",
          "text": [
            "(42000, 10)\n",
            "Classes: [0. 1.]\n",
            "Total number of classes: 2\n"
          ]
        }
      ]
    },
    {
      "cell_type": "code",
      "source": [
        "# define model\n",
        "from tensorflow.keras import losses\n",
        "from tensorflow.keras import optimizers\n",
        "from tensorflow.keras import Sequential\n",
        "from tensorflow.keras.layers import Dense\n",
        "from keras.models import Sequential\n",
        "from keras.layers import Dense, Dropout, BatchNormalization\n"
      ],
      "metadata": {
        "id": "9u_r6542tRmj"
      },
      "execution_count": 14,
      "outputs": []
    },
    {
      "cell_type": "code",
      "source": [
        "# define model\n",
        "\n",
        "from tensorflow.keras import losses\n",
        "from tensorflow.keras import optimizers\n",
        "from tensorflow.keras import Sequential\n",
        "from tensorflow.keras.layers import Dense\n",
        "\n",
        "image_size=32*32\n",
        "num_classes=10\n",
        "# create model\n",
        "model = Sequential()\n",
        "\n",
        "model.add(Dense(256, activation='relu',kernel_initializer='he_uniform',input_shape=(image_size,))) ###Multiple Dense units with Relu activation\n",
        "model.add(Dense(64, activation='relu',kernel_initializer='he_uniform'))\n",
        "model.add(Dense(64, activation='relu',kernel_initializer='he_uniform'))\n",
        "model.add(Dense(32, activation='relu',kernel_initializer='he_uniform'))\n",
        "\n",
        "model.add(Dense(num_classes, activation='softmax'))"
      ],
      "metadata": {
        "id": "1kRafVjrtTdz"
      },
      "execution_count": 15,
      "outputs": []
    },
    {
      "cell_type": "code",
      "source": [
        "#complie of model\n",
        "adam = optimizers.Adam(lr=1e-3)\n",
        "model.compile(loss=losses.categorical_crossentropy, optimizer=adam, metrics=['accuracy'])"
      ],
      "metadata": {
        "colab": {
          "base_uri": "https://localhost:8080/"
        },
        "id": "A8NJllcvtVSn",
        "outputId": "8746f9fd-3566-4f8d-c334-cdaf80f54a6d"
      },
      "execution_count": 16,
      "outputs": [
        {
          "output_type": "stream",
          "name": "stderr",
          "text": [
            "WARNING:absl:`lr` is deprecated in Keras optimizer, please use `learning_rate` or use the legacy optimizer, e.g.,tf.keras.optimizers.legacy.Adam.\n"
          ]
        }
      ]
    },
    {
      "cell_type": "code",
      "source": [
        "model.summary()"
      ],
      "metadata": {
        "colab": {
          "base_uri": "https://localhost:8080/"
        },
        "id": "_DXnO76etW4o",
        "outputId": "0c5b9420-d85b-4af0-9534-ab5153bc490e"
      },
      "execution_count": 17,
      "outputs": [
        {
          "output_type": "stream",
          "name": "stdout",
          "text": [
            "Model: \"sequential\"\n",
            "_________________________________________________________________\n",
            " Layer (type)                Output Shape              Param #   \n",
            "=================================================================\n",
            " dense (Dense)               (None, 256)               262400    \n",
            "                                                                 \n",
            " dense_1 (Dense)             (None, 64)                16448     \n",
            "                                                                 \n",
            " dense_2 (Dense)             (None, 64)                4160      \n",
            "                                                                 \n",
            " dense_3 (Dense)             (None, 32)                2080      \n",
            "                                                                 \n",
            " dense_4 (Dense)             (None, 10)                330       \n",
            "                                                                 \n",
            "=================================================================\n",
            "Total params: 285418 (1.09 MB)\n",
            "Trainable params: 285418 (1.09 MB)\n",
            "Non-trainable params: 0 (0.00 Byte)\n",
            "_________________________________________________________________\n"
          ]
        }
      ]
    },
    {
      "cell_type": "code",
      "source": [
        "#callbacks\n",
        "from tensorflow.keras.callbacks import ModelCheckpoint, ReduceLROnPlateau\n",
        "checkpoint = ModelCheckpoint(\"model_weights.h5\",monitor='val_accuracy',\n",
        "                            save_weights_only=True, mode='max',verbose=1)\n",
        "reduce_lr = ReduceLROnPlateau(monitor='val_loss',factor=0.1,patience=2,min_lr=0.00001,model='auto')\n",
        "\n",
        "callbacks = [checkpoint,reduce_lr]"
      ],
      "metadata": {
        "id": "ItEB_rRctZSq"
      },
      "execution_count": 18,
      "outputs": []
    },
    {
      "cell_type": "code",
      "source": [
        "#fit of model\n",
        "history=model.fit(X_train, y_train, validation_split=0.2, epochs=10, batch_size=128, verbose=2,callbacks=callbacks)"
      ],
      "metadata": {
        "colab": {
          "base_uri": "https://localhost:8080/"
        },
        "id": "m7BMl3MUtblx",
        "outputId": "d620daa1-b8ae-4a9b-b013-a64d878c3f53"
      },
      "execution_count": 19,
      "outputs": [
        {
          "output_type": "stream",
          "name": "stdout",
          "text": [
            "Epoch 1/10\n",
            "\n",
            "Epoch 1: saving model to model_weights.h5\n",
            "263/263 - 3s - loss: 2.3068 - accuracy: 0.1013 - val_loss: 2.3025 - val_accuracy: 0.0942 - lr: 0.0010 - 3s/epoch - 12ms/step\n",
            "Epoch 2/10\n",
            "\n",
            "Epoch 2: saving model to model_weights.h5\n",
            "263/263 - 3s - loss: 2.3027 - accuracy: 0.0989 - val_loss: 2.3028 - val_accuracy: 0.0974 - lr: 0.0010 - 3s/epoch - 10ms/step\n",
            "Epoch 3/10\n",
            "\n",
            "Epoch 3: saving model to model_weights.h5\n",
            "263/263 - 2s - loss: 2.3027 - accuracy: 0.1009 - val_loss: 2.3028 - val_accuracy: 0.1014 - lr: 0.0010 - 2s/epoch - 8ms/step\n",
            "Epoch 4/10\n",
            "\n",
            "Epoch 4: saving model to model_weights.h5\n",
            "263/263 - 2s - loss: 2.3025 - accuracy: 0.1021 - val_loss: 2.3028 - val_accuracy: 0.1014 - lr: 1.0000e-04 - 2s/epoch - 7ms/step\n",
            "Epoch 5/10\n",
            "\n",
            "Epoch 5: saving model to model_weights.h5\n",
            "263/263 - 2s - loss: 2.3025 - accuracy: 0.1021 - val_loss: 2.3028 - val_accuracy: 0.1014 - lr: 1.0000e-04 - 2s/epoch - 7ms/step\n",
            "Epoch 6/10\n",
            "\n",
            "Epoch 6: saving model to model_weights.h5\n",
            "263/263 - 2s - loss: 2.3025 - accuracy: 0.1021 - val_loss: 2.3028 - val_accuracy: 0.1014 - lr: 1.0000e-05 - 2s/epoch - 7ms/step\n",
            "Epoch 7/10\n",
            "\n",
            "Epoch 7: saving model to model_weights.h5\n",
            "263/263 - 2s - loss: 2.3025 - accuracy: 0.1021 - val_loss: 2.3028 - val_accuracy: 0.1014 - lr: 1.0000e-05 - 2s/epoch - 7ms/step\n",
            "Epoch 8/10\n",
            "\n",
            "Epoch 8: saving model to model_weights.h5\n",
            "263/263 - 2s - loss: 2.3025 - accuracy: 0.1021 - val_loss: 2.3028 - val_accuracy: 0.1014 - lr: 1.0000e-05 - 2s/epoch - 7ms/step\n",
            "Epoch 9/10\n",
            "\n",
            "Epoch 9: saving model to model_weights.h5\n",
            "263/263 - 3s - loss: 2.3025 - accuracy: 0.1021 - val_loss: 2.3028 - val_accuracy: 0.1014 - lr: 1.0000e-05 - 3s/epoch - 11ms/step\n",
            "Epoch 10/10\n",
            "\n",
            "Epoch 10: saving model to model_weights.h5\n",
            "263/263 - 2s - loss: 2.3025 - accuracy: 0.1021 - val_loss: 2.3028 - val_accuracy: 0.1014 - lr: 1.0000e-05 - 2s/epoch - 8ms/step\n"
          ]
        }
      ]
    },
    {
      "cell_type": "code",
      "source": [
        "#prediction\n",
        "y_pred=model.predict(X_test)\n",
        "y_pred_final=[]\n",
        "for i in y_pred:\n",
        "  y_pred_final.append(np.argmax(i))"
      ],
      "metadata": {
        "colab": {
          "base_uri": "https://localhost:8080/"
        },
        "id": "gMrUMKSGtdTS",
        "outputId": "a057e1d1-4eea-4c63-dd9f-26f75e553470"
      },
      "execution_count": 20,
      "outputs": [
        {
          "output_type": "stream",
          "name": "stdout",
          "text": [
            "563/563 [==============================] - 3s 4ms/step\n"
          ]
        }
      ]
    },
    {
      "cell_type": "code",
      "source": [
        "from sklearn.preprocessing import LabelBinarizer\n",
        "from sklearn.metrics import classification_report\n"
      ],
      "metadata": {
        "id": "pfZHIIvovOfF"
      },
      "execution_count": 23,
      "outputs": []
    },
    {
      "cell_type": "code",
      "source": [
        "lb = LabelBinarizer()\n",
        "y_test_bin = lb.fit_transform(y_test)\n",
        "y_pred_final_bin = lb.transform(y_pred_final)\n",
        "#classification report\n",
        "print(classification_report(y_test_bin, y_pred_final_bin))"
      ],
      "metadata": {
        "colab": {
          "base_uri": "https://localhost:8080/"
        },
        "id": "vxQuYBxrvQP5",
        "outputId": "c7b63bd4-6137-4e55-fe13-fff4c6a2bb19"
      },
      "execution_count": 24,
      "outputs": [
        {
          "output_type": "stream",
          "name": "stdout",
          "text": [
            "              precision    recall  f1-score   support\n",
            "\n",
            "           0       0.00      0.00      0.00      1814\n",
            "           1       0.00      0.00      0.00      1828\n",
            "           2       0.00      0.00      0.00      1803\n",
            "           3       0.10      1.00      0.17      1719\n",
            "           4       0.00      0.00      0.00      1812\n",
            "           5       0.00      0.00      0.00      1768\n",
            "           6       0.00      0.00      0.00      1832\n",
            "           7       0.00      0.00      0.00      1808\n",
            "           8       0.00      0.00      0.00      1812\n",
            "           9       0.00      0.00      0.00      1804\n",
            "\n",
            "   micro avg       0.10      0.10      0.10     18000\n",
            "   macro avg       0.01      0.10      0.02     18000\n",
            "weighted avg       0.01      0.10      0.02     18000\n",
            " samples avg       0.10      0.10      0.10     18000\n",
            "\n"
          ]
        },
        {
          "output_type": "stream",
          "name": "stderr",
          "text": [
            "/usr/local/lib/python3.10/dist-packages/sklearn/metrics/_classification.py:1344: UndefinedMetricWarning: Precision and F-score are ill-defined and being set to 0.0 in labels with no predicted samples. Use `zero_division` parameter to control this behavior.\n",
            "  _warn_prf(average, modifier, msg_start, len(result))\n"
          ]
        }
      ]
    },
    {
      "cell_type": "code",
      "source": [
        "#accurcay curve\n",
        "loss, accuracy  = model.evaluate(X_test, y_test, verbose=False)\n",
        "\n",
        "plt.plot(history.history['accuracy'])\n",
        "plt.plot(history.history['val_accuracy'])\n",
        "plt.title('model accuracy')\n",
        "plt.ylabel('accuracy')\n",
        "plt.xlabel('epoch')\n",
        "plt.legend(['training', 'validation'], loc='best')\n",
        "plt.show()"
      ],
      "metadata": {
        "colab": {
          "base_uri": "https://localhost:8080/",
          "height": 472
        },
        "id": "2x9UWYCpvTo7",
        "outputId": "e084083f-3586-4fe3-f0f9-c0ac79921455"
      },
      "execution_count": 25,
      "outputs": [
        {
          "output_type": "display_data",
          "data": {
            "text/plain": [
              "<Figure size 640x480 with 1 Axes>"
            ],
            "image/png": "[encoded data removed]"
          },
          "metadata": {}
        }
      ]
    },
    {
      "cell_type": "code",
      "source": [
        "#creating model\n",
        "from tensorflow.keras import losses\n",
        "from tensorflow.keras import optimizers\n",
        "from keras import Sequential\n",
        "from tensorflow.keras.layers import Dense\n",
        "from tensorflow.keras.layers import BatchNormalization\n",
        "from tensorflow.keras.layers import Dropout\n",
        "\n",
        "image_size=32*32\n",
        "\n",
        "# create model\n",
        "model_1 = Sequential()\n",
        "\n",
        "model_1.add(Dense(256, activation='leaky_relu',kernel_initializer='glorot_uniform',input_shape=(image_size,))) ###Multiple Dense units with Relu activation\n",
        "model_1.add(Dense(64, activation='leaky_relu',kernel_initializer='glorot_uniform'))\n",
        "model_1.add(Dense(64, activation='leaky_relu',kernel_initializer='glorot_uniform'))## Weight Initialization\n",
        "model_1.add(Dense(32, activation='leaky_relu',kernel_initializer='glorot_uniform'))\n",
        "model_1.add(Dropout(0.5))\n",
        "model_1.add(BatchNormalization())\n",
        "model_1.add(Dense(num_classes, activation='softmax'))"
      ],
      "metadata": {
        "id": "pFHyUT66vhM2"
      },
      "execution_count": 26,
      "outputs": []
    },
    {
      "cell_type": "code",
      "source": [
        "#complie of model\n",
        "from tensorflow.keras.optimizers import RMSprop\n",
        "adam = optimizers.RMSprop(lr=1e-3)\n",
        "model_1.compile(loss=losses.categorical_crossentropy, optimizer=adam, metrics=['accuracy'])"
      ],
      "metadata": {
        "colab": {
          "base_uri": "https://localhost:8080/"
        },
        "id": "op1bfB2hv3TW",
        "outputId": "d3cdf18e-850e-4433-8e2e-9acc9d6e5bba"
      },
      "execution_count": 27,
      "outputs": [
        {
          "output_type": "stream",
          "name": "stderr",
          "text": [
            "WARNING:absl:`lr` is deprecated in Keras optimizer, please use `learning_rate` or use the legacy optimizer, e.g.,tf.keras.optimizers.legacy.RMSprop.\n"
          ]
        }
      ]
    },
    {
      "cell_type": "code",
      "source": [
        "model_1.summary()"
      ],
      "metadata": {
        "colab": {
          "base_uri": "https://localhost:8080/"
        },
        "id": "KRPwJ5dtv5Iy",
        "outputId": "617d675c-ca96-4174-cb71-d3bedb34ad23"
      },
      "execution_count": 28,
      "outputs": [
        {
          "output_type": "stream",
          "name": "stdout",
          "text": [
            "Model: \"sequential_1\"\n",
            "_________________________________________________________________\n",
            " Layer (type)                Output Shape              Param #   \n",
            "=================================================================\n",
            " dense_5 (Dense)             (None, 256)               262400    \n",
            "                                                                 \n",
            " dense_6 (Dense)             (None, 64)                16448     \n",
            "                                                                 \n",
            " dense_7 (Dense)             (None, 64)                4160      \n",
            "                                                                 \n",
            " dense_8 (Dense)             (None, 32)                2080      \n",
            "                                                                 \n",
            " dropout (Dropout)           (None, 32)                0         \n",
            "                                                                 \n",
            " batch_normalization (Batch  (None, 32)                128       \n",
            " Normalization)                                                  \n",
            "                                                                 \n",
            " dense_9 (Dense)             (None, 10)                330       \n",
            "                                                                 \n",
            "=================================================================\n",
            "Total params: 285546 (1.09 MB)\n",
            "Trainable params: 285482 (1.09 MB)\n",
            "Non-trainable params: 64 (256.00 Byte)\n",
            "_________________________________________________________________\n"
          ]
        }
      ]
    },
    {
      "cell_type": "code",
      "source": [
        "#callbacks\n",
        "checkpoint = ModelCheckpoint(\"model_weights_1.h5\",monitor='val_accuracy',\n",
        "                            save_weights_only=True, model='max',verbose=1)\n",
        "reduce_lr = ReduceLROnPlateau(monitor='val_loss',factor=0.1,patience=2,min_lr=0.00001,model='auto')\n",
        "\n",
        "callbacks = [checkpoint,reduce_lr]"
      ],
      "metadata": {
        "id": "Wn7EPQYDv7XQ"
      },
      "execution_count": 29,
      "outputs": []
    },
    {
      "cell_type": "code",
      "source": [
        "#fit of model\n",
        "history=model_1.fit(X_train, y_train, validation_split=0.2, epochs=100, batch_size=150, verbose=2, callbacks=callbacks)"
      ],
      "metadata": {
        "colab": {
          "base_uri": "https://localhost:8080/"
        },
        "id": "TpbE6zTUv9j3",
        "outputId": "2e098f72-0702-4068-9450-a59eaefc6d0b"
      },
      "execution_count": 30,
      "outputs": [
        {
          "output_type": "stream",
          "name": "stdout",
          "text": [
            "Epoch 1/100\n",
            "\n",
            "Epoch 1: saving model to model_weights_1.h5\n",
            "224/224 - 6s - loss: 2.5887 - accuracy: 0.1034 - val_loss: 2.3088 - val_accuracy: 0.0990 - lr: 0.0010 - 6s/epoch - 25ms/step\n",
            "Epoch 2/100\n",
            "\n",
            "Epoch 2: saving model to model_weights_1.h5\n",
            "224/224 - 2s - loss: 2.2669 - accuracy: 0.1546 - val_loss: 2.1074 - val_accuracy: 0.2675 - lr: 0.0010 - 2s/epoch - 10ms/step\n",
            "Epoch 3/100\n",
            "\n",
            "Epoch 3: saving model to model_weights_1.h5\n",
            "224/224 - 2s - loss: 1.9386 - accuracy: 0.3043 - val_loss: 1.7204 - val_accuracy: 0.4593 - lr: 0.0010 - 2s/epoch - 9ms/step\n",
            "Epoch 4/100\n",
            "\n",
            "Epoch 4: saving model to model_weights_1.h5\n",
            "224/224 - 3s - loss: 1.7566 - accuracy: 0.3864 - val_loss: 1.8149 - val_accuracy: 0.3780 - lr: 0.0010 - 3s/epoch - 12ms/step\n",
            "Epoch 5/100\n",
            "\n",
            "Epoch 5: saving model to model_weights_1.h5\n",
            "224/224 - 3s - loss: 1.6241 - accuracy: 0.4427 - val_loss: 1.5541 - val_accuracy: 0.4544 - lr: 0.0010 - 3s/epoch - 15ms/step\n",
            "Epoch 6/100\n",
            "\n",
            "Epoch 6: saving model to model_weights_1.h5\n",
            "224/224 - 4s - loss: 1.5387 - accuracy: 0.4773 - val_loss: 1.3222 - val_accuracy: 0.5764 - lr: 0.0010 - 4s/epoch - 18ms/step\n",
            "Epoch 7/100\n",
            "\n",
            "Epoch 7: saving model to model_weights_1.h5\n",
            "224/224 - 4s - loss: 1.4546 - accuracy: 0.5063 - val_loss: 1.3766 - val_accuracy: 0.5289 - lr: 0.0010 - 4s/epoch - 18ms/step\n",
            "Epoch 8/100\n",
            "\n",
            "Epoch 8: saving model to model_weights_1.h5\n",
            "224/224 - 6s - loss: 1.3881 - accuracy: 0.5393 - val_loss: 1.3094 - val_accuracy: 0.5752 - lr: 0.0010 - 6s/epoch - 27ms/step\n",
            "Epoch 9/100\n",
            "\n",
            "Epoch 9: saving model to model_weights_1.h5\n",
            "224/224 - 4s - loss: 1.3344 - accuracy: 0.5626 - val_loss: 1.3674 - val_accuracy: 0.5458 - lr: 0.0010 - 4s/epoch - 16ms/step\n",
            "Epoch 10/100\n",
            "\n",
            "Epoch 10: saving model to model_weights_1.h5\n",
            "224/224 - 2s - loss: 1.2853 - accuracy: 0.5796 - val_loss: 1.1851 - val_accuracy: 0.6061 - lr: 0.0010 - 2s/epoch - 9ms/step\n",
            "Epoch 11/100\n",
            "\n",
            "Epoch 11: saving model to model_weights_1.h5\n",
            "224/224 - 2s - loss: 1.2287 - accuracy: 0.6028 - val_loss: 1.1183 - val_accuracy: 0.6410 - lr: 0.0010 - 2s/epoch - 9ms/step\n",
            "Epoch 12/100\n",
            "\n",
            "Epoch 12: saving model to model_weights_1.h5\n",
            "224/224 - 2s - loss: 1.1973 - accuracy: 0.6139 - val_loss: 1.0745 - val_accuracy: 0.6655 - lr: 0.0010 - 2s/epoch - 9ms/step\n",
            "Epoch 13/100\n",
            "\n",
            "Epoch 13: saving model to model_weights_1.h5\n",
            "224/224 - 3s - loss: 1.1557 - accuracy: 0.6310 - val_loss: 1.2200 - val_accuracy: 0.6200 - lr: 0.0010 - 3s/epoch - 14ms/step\n",
            "Epoch 14/100\n",
            "\n",
            "Epoch 14: saving model to model_weights_1.h5\n",
            "224/224 - 2s - loss: 1.1227 - accuracy: 0.6418 - val_loss: 1.0935 - val_accuracy: 0.6517 - lr: 0.0010 - 2s/epoch - 9ms/step\n",
            "Epoch 15/100\n",
            "\n",
            "Epoch 15: saving model to model_weights_1.h5\n",
            "224/224 - 2s - loss: 0.9193 - accuracy: 0.7201 - val_loss: 0.8425 - val_accuracy: 0.7482 - lr: 1.0000e-04 - 2s/epoch - 8ms/step\n",
            "Epoch 16/100\n",
            "\n",
            "Epoch 16: saving model to model_weights_1.h5\n",
            "224/224 - 2s - loss: 0.8998 - accuracy: 0.7285 - val_loss: 0.8249 - val_accuracy: 0.7518 - lr: 1.0000e-04 - 2s/epoch - 9ms/step\n",
            "Epoch 17/100\n",
            "\n",
            "Epoch 17: saving model to model_weights_1.h5\n",
            "224/224 - 2s - loss: 0.8895 - accuracy: 0.7310 - val_loss: 0.8182 - val_accuracy: 0.7556 - lr: 1.0000e-04 - 2s/epoch - 8ms/step\n",
            "Epoch 18/100\n",
            "\n",
            "Epoch 18: saving model to model_weights_1.h5\n",
            "224/224 - 2s - loss: 0.8801 - accuracy: 0.7362 - val_loss: 0.8031 - val_accuracy: 0.7590 - lr: 1.0000e-04 - 2s/epoch - 9ms/step\n",
            "Epoch 19/100\n",
            "\n",
            "Epoch 19: saving model to model_weights_1.h5\n",
            "224/224 - 3s - loss: 0.8700 - accuracy: 0.7365 - val_loss: 0.7966 - val_accuracy: 0.7600 - lr: 1.0000e-04 - 3s/epoch - 14ms/step\n",
            "Epoch 20/100\n",
            "\n",
            "Epoch 20: saving model to model_weights_1.h5\n",
            "224/224 - 2s - loss: 0.8628 - accuracy: 0.7376 - val_loss: 0.8094 - val_accuracy: 0.7520 - lr: 1.0000e-04 - 2s/epoch - 10ms/step\n",
            "Epoch 21/100\n",
            "\n",
            "Epoch 21: saving model to model_weights_1.h5\n",
            "224/224 - 2s - loss: 0.8521 - accuracy: 0.7409 - val_loss: 0.7859 - val_accuracy: 0.7636 - lr: 1.0000e-04 - 2s/epoch - 10ms/step\n",
            "Epoch 22/100\n",
            "\n",
            "Epoch 22: saving model to model_weights_1.h5\n",
            "224/224 - 2s - loss: 0.8508 - accuracy: 0.7403 - val_loss: 0.7804 - val_accuracy: 0.7632 - lr: 1.0000e-04 - 2s/epoch - 10ms/step\n",
            "Epoch 23/100\n",
            "\n",
            "Epoch 23: saving model to model_weights_1.h5\n",
            "224/224 - 2s - loss: 0.8434 - accuracy: 0.7418 - val_loss: 0.7827 - val_accuracy: 0.7664 - lr: 1.0000e-04 - 2s/epoch - 9ms/step\n",
            "Epoch 24/100\n",
            "\n",
            "Epoch 24: saving model to model_weights_1.h5\n",
            "224/224 - 2s - loss: 0.8382 - accuracy: 0.7446 - val_loss: 0.7719 - val_accuracy: 0.7662 - lr: 1.0000e-04 - 2s/epoch - 9ms/step\n",
            "Epoch 25/100\n",
            "\n",
            "Epoch 25: saving model to model_weights_1.h5\n",
            "224/224 - 3s - loss: 0.8288 - accuracy: 0.7482 - val_loss: 0.7681 - val_accuracy: 0.7668 - lr: 1.0000e-04 - 3s/epoch - 15ms/step\n",
            "Epoch 26/100\n",
            "\n",
            "Epoch 26: saving model to model_weights_1.h5\n",
            "224/224 - 2s - loss: 0.8221 - accuracy: 0.7488 - val_loss: 0.7671 - val_accuracy: 0.7675 - lr: 1.0000e-04 - 2s/epoch - 10ms/step\n",
            "Epoch 27/100\n",
            "\n",
            "Epoch 27: saving model to model_weights_1.h5\n",
            "224/224 - 3s - loss: 0.8214 - accuracy: 0.7503 - val_loss: 0.7700 - val_accuracy: 0.7662 - lr: 1.0000e-04 - 3s/epoch - 13ms/step\n",
            "Epoch 28/100\n",
            "\n",
            "Epoch 28: saving model to model_weights_1.h5\n",
            "224/224 - 3s - loss: 0.8116 - accuracy: 0.7515 - val_loss: 0.7555 - val_accuracy: 0.7721 - lr: 1.0000e-04 - 3s/epoch - 11ms/step\n",
            "Epoch 29/100\n",
            "\n",
            "Epoch 29: saving model to model_weights_1.h5\n",
            "224/224 - 3s - loss: 0.8101 - accuracy: 0.7511 - val_loss: 0.7545 - val_accuracy: 0.7713 - lr: 1.0000e-04 - 3s/epoch - 11ms/step\n",
            "Epoch 30/100\n",
            "\n",
            "Epoch 30: saving model to model_weights_1.h5\n",
            "224/224 - 5s - loss: 0.8060 - accuracy: 0.7553 - val_loss: 0.7461 - val_accuracy: 0.7752 - lr: 1.0000e-04 - 5s/epoch - 22ms/step\n",
            "Epoch 31/100\n",
            "\n",
            "Epoch 31: saving model to model_weights_1.h5\n",
            "224/224 - 2s - loss: 0.7999 - accuracy: 0.7544 - val_loss: 0.7507 - val_accuracy: 0.7718 - lr: 1.0000e-04 - 2s/epoch - 11ms/step\n",
            "Epoch 32/100\n",
            "\n",
            "Epoch 32: saving model to model_weights_1.h5\n",
            "224/224 - 2s - loss: 0.7961 - accuracy: 0.7566 - val_loss: 0.7472 - val_accuracy: 0.7725 - lr: 1.0000e-04 - 2s/epoch - 9ms/step\n",
            "Epoch 33/100\n",
            "\n",
            "Epoch 33: saving model to model_weights_1.h5\n",
            "224/224 - 2s - loss: 0.7817 - accuracy: 0.7639 - val_loss: 0.7318 - val_accuracy: 0.7802 - lr: 1.0000e-05 - 2s/epoch - 10ms/step\n",
            "Epoch 34/100\n",
            "\n",
            "Epoch 34: saving model to model_weights_1.h5\n",
            "224/224 - 2s - loss: 0.7747 - accuracy: 0.7652 - val_loss: 0.7303 - val_accuracy: 0.7808 - lr: 1.0000e-05 - 2s/epoch - 9ms/step\n",
            "Epoch 35/100\n",
            "\n",
            "Epoch 35: saving model to model_weights_1.h5\n",
            "224/224 - 2s - loss: 0.7788 - accuracy: 0.7632 - val_loss: 0.7306 - val_accuracy: 0.7802 - lr: 1.0000e-05 - 2s/epoch - 9ms/step\n",
            "Epoch 36/100\n",
            "\n",
            "Epoch 36: saving model to model_weights_1.h5\n",
            "224/224 - 3s - loss: 0.7728 - accuracy: 0.7654 - val_loss: 0.7296 - val_accuracy: 0.7808 - lr: 1.0000e-05 - 3s/epoch - 12ms/step\n",
            "Epoch 37/100\n",
            "\n",
            "Epoch 37: saving model to model_weights_1.h5\n",
            "224/224 - 3s - loss: 0.7736 - accuracy: 0.7649 - val_loss: 0.7294 - val_accuracy: 0.7801 - lr: 1.0000e-05 - 3s/epoch - 13ms/step\n",
            "Epoch 38/100\n",
            "\n",
            "Epoch 38: saving model to model_weights_1.h5\n",
            "224/224 - 2s - loss: 0.7709 - accuracy: 0.7662 - val_loss: 0.7306 - val_accuracy: 0.7799 - lr: 1.0000e-05 - 2s/epoch - 10ms/step\n",
            "Epoch 39/100\n",
            "\n",
            "Epoch 39: saving model to model_weights_1.h5\n",
            "224/224 - 2s - loss: 0.7726 - accuracy: 0.7632 - val_loss: 0.7280 - val_accuracy: 0.7806 - lr: 1.0000e-05 - 2s/epoch - 9ms/step\n",
            "Epoch 40/100\n",
            "\n",
            "Epoch 40: saving model to model_weights_1.h5\n",
            "224/224 - 2s - loss: 0.7753 - accuracy: 0.7656 - val_loss: 0.7284 - val_accuracy: 0.7806 - lr: 1.0000e-05 - 2s/epoch - 8ms/step\n",
            "Epoch 41/100\n",
            "\n",
            "Epoch 41: saving model to model_weights_1.h5\n",
            "224/224 - 2s - loss: 0.7723 - accuracy: 0.7668 - val_loss: 0.7274 - val_accuracy: 0.7802 - lr: 1.0000e-05 - 2s/epoch - 9ms/step\n",
            "Epoch 42/100\n",
            "\n",
            "Epoch 42: saving model to model_weights_1.h5\n",
            "224/224 - 3s - loss: 0.7722 - accuracy: 0.7657 - val_loss: 0.7286 - val_accuracy: 0.7807 - lr: 1.0000e-05 - 3s/epoch - 12ms/step\n",
            "Epoch 43/100\n",
            "\n",
            "Epoch 43: saving model to model_weights_1.h5\n",
            "224/224 - 3s - loss: 0.7695 - accuracy: 0.7650 - val_loss: 0.7295 - val_accuracy: 0.7804 - lr: 1.0000e-05 - 3s/epoch - 12ms/step\n",
            "Epoch 44/100\n",
            "\n",
            "Epoch 44: saving model to model_weights_1.h5\n",
            "224/224 - 2s - loss: 0.7709 - accuracy: 0.7650 - val_loss: 0.7275 - val_accuracy: 0.7811 - lr: 1.0000e-05 - 2s/epoch - 9ms/step\n",
            "Epoch 45/100\n",
            "\n",
            "Epoch 45: saving model to model_weights_1.h5\n",
            "224/224 - 2s - loss: 0.7702 - accuracy: 0.7648 - val_loss: 0.7276 - val_accuracy: 0.7813 - lr: 1.0000e-05 - 2s/epoch - 9ms/step\n",
            "Epoch 46/100\n",
            "\n",
            "Epoch 46: saving model to model_weights_1.h5\n",
            "224/224 - 2s - loss: 0.7676 - accuracy: 0.7676 - val_loss: 0.7264 - val_accuracy: 0.7812 - lr: 1.0000e-05 - 2s/epoch - 9ms/step\n",
            "Epoch 47/100\n",
            "\n",
            "Epoch 47: saving model to model_weights_1.h5\n",
            "224/224 - 2s - loss: 0.7686 - accuracy: 0.7665 - val_loss: 0.7258 - val_accuracy: 0.7813 - lr: 1.0000e-05 - 2s/epoch - 9ms/step\n",
            "Epoch 48/100\n",
            "\n",
            "Epoch 48: saving model to model_weights_1.h5\n",
            "224/224 - 2s - loss: 0.7690 - accuracy: 0.7658 - val_loss: 0.7240 - val_accuracy: 0.7824 - lr: 1.0000e-05 - 2s/epoch - 11ms/step\n",
            "Epoch 49/100\n",
            "\n",
            "Epoch 49: saving model to model_weights_1.h5\n",
            "224/224 - 3s - loss: 0.7676 - accuracy: 0.7655 - val_loss: 0.7251 - val_accuracy: 0.7827 - lr: 1.0000e-05 - 3s/epoch - 13ms/step\n",
            "Epoch 50/100\n",
            "\n",
            "Epoch 50: saving model to model_weights_1.h5\n",
            "224/224 - 2s - loss: 0.7642 - accuracy: 0.7680 - val_loss: 0.7243 - val_accuracy: 0.7825 - lr: 1.0000e-05 - 2s/epoch - 9ms/step\n",
            "Epoch 51/100\n",
            "\n",
            "Epoch 51: saving model to model_weights_1.h5\n",
            "224/224 - 3s - loss: 0.7658 - accuracy: 0.7680 - val_loss: 0.7243 - val_accuracy: 0.7811 - lr: 1.0000e-05 - 3s/epoch - 12ms/step\n",
            "Epoch 52/100\n",
            "\n",
            "Epoch 52: saving model to model_weights_1.h5\n",
            "224/224 - 2s - loss: 0.7637 - accuracy: 0.7680 - val_loss: 0.7235 - val_accuracy: 0.7823 - lr: 1.0000e-05 - 2s/epoch - 9ms/step\n",
            "Epoch 53/100\n",
            "\n",
            "Epoch 53: saving model to model_weights_1.h5\n",
            "224/224 - 2s - loss: 0.7655 - accuracy: 0.7660 - val_loss: 0.7245 - val_accuracy: 0.7810 - lr: 1.0000e-05 - 2s/epoch - 9ms/step\n",
            "Epoch 54/100\n",
            "\n",
            "Epoch 54: saving model to model_weights_1.h5\n",
            "224/224 - 2s - loss: 0.7675 - accuracy: 0.7659 - val_loss: 0.7249 - val_accuracy: 0.7820 - lr: 1.0000e-05 - 2s/epoch - 10ms/step\n",
            "Epoch 55/100\n",
            "\n",
            "Epoch 55: saving model to model_weights_1.h5\n",
            "224/224 - 3s - loss: 0.7606 - accuracy: 0.7673 - val_loss: 0.7236 - val_accuracy: 0.7819 - lr: 1.0000e-05 - 3s/epoch - 12ms/step\n",
            "Epoch 56/100\n",
            "\n",
            "Epoch 56: saving model to model_weights_1.h5\n",
            "224/224 - 2s - loss: 0.7689 - accuracy: 0.7672 - val_loss: 0.7224 - val_accuracy: 0.7827 - lr: 1.0000e-05 - 2s/epoch - 8ms/step\n",
            "Epoch 57/100\n",
            "\n",
            "Epoch 57: saving model to model_weights_1.h5\n",
            "224/224 - 2s - loss: 0.7674 - accuracy: 0.7653 - val_loss: 0.7220 - val_accuracy: 0.7819 - lr: 1.0000e-05 - 2s/epoch - 8ms/step\n",
            "Epoch 58/100\n",
            "\n",
            "Epoch 58: saving model to model_weights_1.h5\n",
            "224/224 - 2s - loss: 0.7631 - accuracy: 0.7669 - val_loss: 0.7210 - val_accuracy: 0.7815 - lr: 1.0000e-05 - 2s/epoch - 8ms/step\n",
            "Epoch 59/100\n",
            "\n",
            "Epoch 59: saving model to model_weights_1.h5\n",
            "224/224 - 2s - loss: 0.7654 - accuracy: 0.7677 - val_loss: 0.7224 - val_accuracy: 0.7821 - lr: 1.0000e-05 - 2s/epoch - 10ms/step\n",
            "Epoch 60/100\n",
            "\n",
            "Epoch 60: saving model to model_weights_1.h5\n",
            "224/224 - 3s - loss: 0.7592 - accuracy: 0.7703 - val_loss: 0.7208 - val_accuracy: 0.7819 - lr: 1.0000e-05 - 3s/epoch - 12ms/step\n",
            "Epoch 61/100\n",
            "\n",
            "Epoch 61: saving model to model_weights_1.h5\n",
            "224/224 - 3s - loss: 0.7646 - accuracy: 0.7665 - val_loss: 0.7206 - val_accuracy: 0.7831 - lr: 1.0000e-05 - 3s/epoch - 12ms/step\n",
            "Epoch 62/100\n",
            "\n",
            "Epoch 62: saving model to model_weights_1.h5\n",
            "224/224 - 2s - loss: 0.7607 - accuracy: 0.7702 - val_loss: 0.7220 - val_accuracy: 0.7840 - lr: 1.0000e-05 - 2s/epoch - 8ms/step\n",
            "Epoch 63/100\n",
            "\n",
            "Epoch 63: saving model to model_weights_1.h5\n",
            "224/224 - 2s - loss: 0.7591 - accuracy: 0.7670 - val_loss: 0.7216 - val_accuracy: 0.7827 - lr: 1.0000e-05 - 2s/epoch - 8ms/step\n",
            "Epoch 64/100\n",
            "\n",
            "Epoch 64: saving model to model_weights_1.h5\n",
            "224/224 - 2s - loss: 0.7621 - accuracy: 0.7690 - val_loss: 0.7200 - val_accuracy: 0.7830 - lr: 1.0000e-05 - 2s/epoch - 8ms/step\n",
            "Epoch 65/100\n",
            "\n",
            "Epoch 65: saving model to model_weights_1.h5\n",
            "224/224 - 2s - loss: 0.7652 - accuracy: 0.7686 - val_loss: 0.7191 - val_accuracy: 0.7835 - lr: 1.0000e-05 - 2s/epoch - 7ms/step\n",
            "Epoch 66/100\n",
            "\n",
            "Epoch 66: saving model to model_weights_1.h5\n",
            "224/224 - 2s - loss: 0.7606 - accuracy: 0.7700 - val_loss: 0.7199 - val_accuracy: 0.7817 - lr: 1.0000e-05 - 2s/epoch - 7ms/step\n",
            "Epoch 67/100\n",
            "\n",
            "Epoch 67: saving model to model_weights_1.h5\n",
            "224/224 - 2s - loss: 0.7551 - accuracy: 0.7696 - val_loss: 0.7204 - val_accuracy: 0.7835 - lr: 1.0000e-05 - 2s/epoch - 8ms/step\n",
            "Epoch 68/100\n",
            "\n",
            "Epoch 68: saving model to model_weights_1.h5\n",
            "224/224 - 3s - loss: 0.7601 - accuracy: 0.7672 - val_loss: 0.7190 - val_accuracy: 0.7837 - lr: 1.0000e-05 - 3s/epoch - 12ms/step\n",
            "Epoch 69/100\n",
            "\n",
            "Epoch 69: saving model to model_weights_1.h5\n",
            "224/224 - 2s - loss: 0.7562 - accuracy: 0.7713 - val_loss: 0.7208 - val_accuracy: 0.7851 - lr: 1.0000e-05 - 2s/epoch - 8ms/step\n",
            "Epoch 70/100\n",
            "\n",
            "Epoch 70: saving model to model_weights_1.h5\n",
            "224/224 - 2s - loss: 0.7548 - accuracy: 0.7691 - val_loss: 0.7181 - val_accuracy: 0.7823 - lr: 1.0000e-05 - 2s/epoch - 8ms/step\n",
            "Epoch 71/100\n",
            "\n",
            "Epoch 71: saving model to model_weights_1.h5\n",
            "224/224 - 2s - loss: 0.7563 - accuracy: 0.7707 - val_loss: 0.7185 - val_accuracy: 0.7836 - lr: 1.0000e-05 - 2s/epoch - 8ms/step\n",
            "Epoch 72/100\n",
            "\n",
            "Epoch 72: saving model to model_weights_1.h5\n",
            "224/224 - 2s - loss: 0.7563 - accuracy: 0.7671 - val_loss: 0.7181 - val_accuracy: 0.7829 - lr: 1.0000e-05 - 2s/epoch - 8ms/step\n",
            "Epoch 73/100\n",
            "\n",
            "Epoch 73: saving model to model_weights_1.h5\n",
            "224/224 - 2s - loss: 0.7507 - accuracy: 0.7693 - val_loss: 0.7164 - val_accuracy: 0.7839 - lr: 1.0000e-05 - 2s/epoch - 8ms/step\n",
            "Epoch 74/100\n",
            "\n",
            "Epoch 74: saving model to model_weights_1.h5\n",
            "224/224 - 2s - loss: 0.7547 - accuracy: 0.7711 - val_loss: 0.7165 - val_accuracy: 0.7838 - lr: 1.0000e-05 - 2s/epoch - 10ms/step\n",
            "Epoch 75/100\n",
            "\n",
            "Epoch 75: saving model to model_weights_1.h5\n",
            "224/224 - 3s - loss: 0.7572 - accuracy: 0.7691 - val_loss: 0.7178 - val_accuracy: 0.7833 - lr: 1.0000e-05 - 3s/epoch - 16ms/step\n",
            "Epoch 76/100\n",
            "\n",
            "Epoch 76: saving model to model_weights_1.h5\n",
            "224/224 - 2s - loss: 0.7567 - accuracy: 0.7683 - val_loss: 0.7149 - val_accuracy: 0.7831 - lr: 1.0000e-05 - 2s/epoch - 8ms/step\n",
            "Epoch 77/100\n",
            "\n",
            "Epoch 77: saving model to model_weights_1.h5\n",
            "224/224 - 2s - loss: 0.7494 - accuracy: 0.7746 - val_loss: 0.7154 - val_accuracy: 0.7833 - lr: 1.0000e-05 - 2s/epoch - 8ms/step\n",
            "Epoch 78/100\n",
            "\n",
            "Epoch 78: saving model to model_weights_1.h5\n",
            "224/224 - 2s - loss: 0.7515 - accuracy: 0.7711 - val_loss: 0.7149 - val_accuracy: 0.7819 - lr: 1.0000e-05 - 2s/epoch - 8ms/step\n",
            "Epoch 79/100\n",
            "\n",
            "Epoch 79: saving model to model_weights_1.h5\n",
            "224/224 - 2s - loss: 0.7514 - accuracy: 0.7714 - val_loss: 0.7161 - val_accuracy: 0.7832 - lr: 1.0000e-05 - 2s/epoch - 8ms/step\n",
            "Epoch 80/100\n",
            "\n",
            "Epoch 80: saving model to model_weights_1.h5\n",
            "224/224 - 2s - loss: 0.7557 - accuracy: 0.7693 - val_loss: 0.7157 - val_accuracy: 0.7849 - lr: 1.0000e-05 - 2s/epoch - 8ms/step\n",
            "Epoch 81/100\n",
            "\n",
            "Epoch 81: saving model to model_weights_1.h5\n",
            "224/224 - 2s - loss: 0.7493 - accuracy: 0.7715 - val_loss: 0.7134 - val_accuracy: 0.7848 - lr: 1.0000e-05 - 2s/epoch - 10ms/step\n",
            "Epoch 82/100\n",
            "\n",
            "Epoch 82: saving model to model_weights_1.h5\n",
            "224/224 - 3s - loss: 0.7526 - accuracy: 0.7710 - val_loss: 0.7136 - val_accuracy: 0.7836 - lr: 1.0000e-05 - 3s/epoch - 11ms/step\n",
            "Epoch 83/100\n",
            "\n",
            "Epoch 83: saving model to model_weights_1.h5\n",
            "224/224 - 2s - loss: 0.7534 - accuracy: 0.7707 - val_loss: 0.7148 - val_accuracy: 0.7831 - lr: 1.0000e-05 - 2s/epoch - 7ms/step\n",
            "Epoch 84/100\n",
            "\n",
            "Epoch 84: saving model to model_weights_1.h5\n",
            "224/224 - 2s - loss: 0.7493 - accuracy: 0.7708 - val_loss: 0.7141 - val_accuracy: 0.7840 - lr: 1.0000e-05 - 2s/epoch - 7ms/step\n",
            "Epoch 85/100\n",
            "\n",
            "Epoch 85: saving model to model_weights_1.h5\n",
            "224/224 - 2s - loss: 0.7516 - accuracy: 0.7724 - val_loss: 0.7133 - val_accuracy: 0.7819 - lr: 1.0000e-05 - 2s/epoch - 7ms/step\n",
            "Epoch 86/100\n",
            "\n",
            "Epoch 86: saving model to model_weights_1.h5\n",
            "224/224 - 2s - loss: 0.7459 - accuracy: 0.7712 - val_loss: 0.7121 - val_accuracy: 0.7832 - lr: 1.0000e-05 - 2s/epoch - 7ms/step\n",
            "Epoch 87/100\n",
            "\n",
            "Epoch 87: saving model to model_weights_1.h5\n",
            "224/224 - 2s - loss: 0.7462 - accuracy: 0.7746 - val_loss: 0.7135 - val_accuracy: 0.7850 - lr: 1.0000e-05 - 2s/epoch - 7ms/step\n",
            "Epoch 88/100\n",
            "\n",
            "Epoch 88: saving model to model_weights_1.h5\n",
            "224/224 - 2s - loss: 0.7489 - accuracy: 0.7704 - val_loss: 0.7119 - val_accuracy: 0.7825 - lr: 1.0000e-05 - 2s/epoch - 8ms/step\n",
            "Epoch 89/100\n",
            "\n",
            "Epoch 89: saving model to model_weights_1.h5\n",
            "224/224 - 3s - loss: 0.7448 - accuracy: 0.7729 - val_loss: 0.7141 - val_accuracy: 0.7849 - lr: 1.0000e-05 - 3s/epoch - 12ms/step\n",
            "Epoch 90/100\n",
            "\n",
            "Epoch 90: saving model to model_weights_1.h5\n",
            "224/224 - 2s - loss: 0.7457 - accuracy: 0.7734 - val_loss: 0.7125 - val_accuracy: 0.7843 - lr: 1.0000e-05 - 2s/epoch - 9ms/step\n",
            "Epoch 91/100\n",
            "\n",
            "Epoch 91: saving model to model_weights_1.h5\n",
            "224/224 - 2s - loss: 0.7490 - accuracy: 0.7712 - val_loss: 0.7129 - val_accuracy: 0.7826 - lr: 1.0000e-05 - 2s/epoch - 8ms/step\n",
            "Epoch 92/100\n",
            "\n",
            "Epoch 92: saving model to model_weights_1.h5\n",
            "224/224 - 2s - loss: 0.7453 - accuracy: 0.7727 - val_loss: 0.7121 - val_accuracy: 0.7840 - lr: 1.0000e-05 - 2s/epoch - 8ms/step\n",
            "Epoch 93/100\n",
            "\n",
            "Epoch 93: saving model to model_weights_1.h5\n",
            "224/224 - 2s - loss: 0.7471 - accuracy: 0.7731 - val_loss: 0.7108 - val_accuracy: 0.7838 - lr: 1.0000e-05 - 2s/epoch - 8ms/step\n",
            "Epoch 94/100\n",
            "\n",
            "Epoch 94: saving model to model_weights_1.h5\n",
            "224/224 - 2s - loss: 0.7442 - accuracy: 0.7725 - val_loss: 0.7118 - val_accuracy: 0.7851 - lr: 1.0000e-05 - 2s/epoch - 8ms/step\n",
            "Epoch 95/100\n",
            "\n",
            "Epoch 95: saving model to model_weights_1.h5\n",
            "224/224 - 2s - loss: 0.7433 - accuracy: 0.7703 - val_loss: 0.7101 - val_accuracy: 0.7849 - lr: 1.0000e-05 - 2s/epoch - 9ms/step\n",
            "Epoch 96/100\n",
            "\n",
            "Epoch 96: saving model to model_weights_1.h5\n",
            "224/224 - 3s - loss: 0.7454 - accuracy: 0.7734 - val_loss: 0.7109 - val_accuracy: 0.7849 - lr: 1.0000e-05 - 3s/epoch - 12ms/step\n",
            "Epoch 97/100\n",
            "\n",
            "Epoch 97: saving model to model_weights_1.h5\n",
            "224/224 - 2s - loss: 0.7428 - accuracy: 0.7760 - val_loss: 0.7096 - val_accuracy: 0.7844 - lr: 1.0000e-05 - 2s/epoch - 8ms/step\n",
            "Epoch 98/100\n",
            "\n",
            "Epoch 98: saving model to model_weights_1.h5\n",
            "224/224 - 2s - loss: 0.7435 - accuracy: 0.7747 - val_loss: 0.7097 - val_accuracy: 0.7848 - lr: 1.0000e-05 - 2s/epoch - 8ms/step\n",
            "Epoch 99/100\n",
            "\n",
            "Epoch 99: saving model to model_weights_1.h5\n",
            "224/224 - 2s - loss: 0.7429 - accuracy: 0.7729 - val_loss: 0.7105 - val_accuracy: 0.7843 - lr: 1.0000e-05 - 2s/epoch - 8ms/step\n",
            "Epoch 100/100\n",
            "\n",
            "Epoch 100: saving model to model_weights_1.h5\n",
            "224/224 - 2s - loss: 0.7430 - accuracy: 0.7730 - val_loss: 0.7105 - val_accuracy: 0.7852 - lr: 1.0000e-05 - 2s/epoch - 8ms/step\n"
          ]
        }
      ]
    },
    {
      "cell_type": "code",
      "source": [
        "#model acuurcay curve\n",
        "loss, accuracy  = model_1.evaluate(X_test, y_test, verbose=False)\n",
        "\n",
        "plt.plot(history.history['accuracy'])\n",
        "plt.plot(history.history['val_accuracy'])\n",
        "plt.title('model accuracy')\n",
        "plt.ylabel('accuracy')\n",
        "plt.xlabel('epoch')\n",
        "plt.legend(['training', 'validation'], loc='best')\n",
        "plt.show()"
      ],
      "metadata": {
        "colab": {
          "base_uri": "https://localhost:8080/",
          "height": 472
        },
        "id": "uV2S-KTYv_Ld",
        "outputId": "c2db5752-a610-47d9-9352-7360f97dbafd"
      },
      "execution_count": 31,
      "outputs": [
        {
          "output_type": "display_data",
          "data": {
            "text/plain": [
              "<Figure size 640x480 with 1 Axes>"
            ],
            "image/png": "[encoded data removed]"
          },
          "metadata": {}
        }
      ]
    },
    {
      "cell_type": "markdown",
      "source": [
        "**Conclusion**\n",
        "\n",
        "Our project tackled the challenging task of recognizing multi-digit numbers in street-level photographs using neural network models. Leveraging the Street View House Numbers (SVHN) dataset, we aimed to transcribe address numbers accurately despite various challenges such as diverse fonts, colors, orientations, and environmental factors.\n",
        "\n",
        "After thorough experimentation, we found that our  neural network model outperformed others in terms of accuracy. With an accuracy of [77%], our model demonstrates its capability to accurately transcribe numbers from street-level images, surpassing baseline performance.\n",
        "\n",
        "Moving forward, deploying this model could enhance the efficiency and accuracy of map-making processes, offering valuable insights for OCR and computer vision applications. Overall, our project highlights the effectiveness of neural network models in addressing real-world image recognition challenges."
      ],
      "metadata": {
        "id": "Kaj-jlNfw9lE"
      }
    },
    {
      "cell_type": "code",
      "source": [],
      "metadata": {
        "id": "8JBqFZC8xMl8"
      },
      "execution_count": null,
      "outputs": []
    }
  ]
}